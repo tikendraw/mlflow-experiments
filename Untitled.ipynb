{
 "cells": [
  {
   "cell_type": "code",
   "execution_count": null,
   "id": "fa70b65f",
   "metadata": {},
   "outputs": [
    {
     "name": "stdout",
     "output_type": "stream",
     "text": [
      "Requirement already satisfied: pip in ./.venv/lib/python3.12/site-packages (24.0)\n",
      "Found existing installation: mlflow 2.11.3\n",
      "Uninstalling mlflow-2.11.3:\n",
      "  Successfully uninstalled mlflow-2.11.3\n",
      "Collecting mlflow\n",
      "  Downloading mlflow-2.11.3-py3-none-any.whl.metadata (15 kB)\n",
      "Requirement already satisfied: click<9,>=7.0 in ./.venv/lib/python3.12/site-packages (from mlflow) (8.1.7)\n",
      "Requirement already satisfied: cloudpickle<4 in ./.venv/lib/python3.12/site-packages (from mlflow) (3.0.0)\n",
      "Requirement already satisfied: entrypoints<1 in ./.venv/lib/python3.12/site-packages (from mlflow) (0.4)\n",
      "Requirement already satisfied: gitpython<4,>=3.1.9 in ./.venv/lib/python3.12/site-packages (from mlflow) (3.1.43)\n",
      "Requirement already satisfied: pyyaml<7,>=5.1 in ./.venv/lib/python3.12/site-packages (from mlflow) (6.0.1)\n",
      "Requirement already satisfied: protobuf<5,>=3.12.0 in ./.venv/lib/python3.12/site-packages (from mlflow) (4.25.3)\n",
      "Requirement already satisfied: pytz<2025 in ./.venv/lib/python3.12/site-packages (from mlflow) (2024.1)\n",
      "Requirement already satisfied: requests<3,>=2.17.3 in ./.venv/lib/python3.12/site-packages (from mlflow) (2.31.0)\n",
      "Requirement already satisfied: packaging<24 in ./.venv/lib/python3.12/site-packages (from mlflow) (23.2)\n",
      "Requirement already satisfied: importlib-metadata!=4.7.0,<8,>=3.7.0 in ./.venv/lib/python3.12/site-packages (from mlflow) (7.1.0)\n",
      "Requirement already satisfied: sqlparse<1,>=0.4.0 in ./.venv/lib/python3.12/site-packages (from mlflow) (0.4.4)\n",
      "Requirement already satisfied: alembic!=1.10.0,<2 in ./.venv/lib/python3.12/site-packages (from mlflow) (1.13.1)\n",
      "Requirement already satisfied: docker<8,>=4.0.0 in ./.venv/lib/python3.12/site-packages (from mlflow) (7.0.0)\n",
      "Requirement already satisfied: Flask<4 in ./.venv/lib/python3.12/site-packages (from mlflow) (3.0.3)\n",
      "Requirement already satisfied: numpy<2 in ./.venv/lib/python3.12/site-packages (from mlflow) (1.26.4)\n",
      "Requirement already satisfied: scipy<2 in ./.venv/lib/python3.12/site-packages (from mlflow) (1.13.0)\n",
      "Requirement already satisfied: pandas<3 in ./.venv/lib/python3.12/site-packages (from mlflow) (2.2.2)\n",
      "Requirement already satisfied: querystring-parser<2 in ./.venv/lib/python3.12/site-packages (from mlflow) (1.2.4)\n",
      "Requirement already satisfied: sqlalchemy<3,>=1.4.0 in ./.venv/lib/python3.12/site-packages (from mlflow) (2.0.29)\n",
      "Requirement already satisfied: scikit-learn<2 in ./.venv/lib/python3.12/site-packages (from mlflow) (1.4.2)\n",
      "Requirement already satisfied: pyarrow<16,>=4.0.0 in ./.venv/lib/python3.12/site-packages (from mlflow) (15.0.2)\n",
      "Requirement already satisfied: markdown<4,>=3.3 in ./.venv/lib/python3.12/site-packages (from mlflow) (3.6)\n",
      "Requirement already satisfied: matplotlib<4 in ./.venv/lib/python3.12/site-packages (from mlflow) (3.8.4)\n",
      "Requirement already satisfied: graphene<4 in ./.venv/lib/python3.12/site-packages (from mlflow) (3.3)\n",
      "Requirement already satisfied: gunicorn<22 in ./.venv/lib/python3.12/site-packages (from mlflow) (21.2.0)\n",
      "Requirement already satisfied: Jinja2<4,>=2.11 in ./.venv/lib/python3.12/site-packages (from mlflow) (3.1.3)\n",
      "Requirement already satisfied: Mako in ./.venv/lib/python3.12/site-packages (from alembic!=1.10.0,<2->mlflow) (1.3.3)\n",
      "Requirement already satisfied: typing-extensions>=4 in ./.venv/lib/python3.12/site-packages (from alembic!=1.10.0,<2->mlflow) (4.11.0)\n",
      "Requirement already satisfied: urllib3>=1.26.0 in ./.venv/lib/python3.12/site-packages (from docker<8,>=4.0.0->mlflow) (2.2.1)\n",
      "Requirement already satisfied: Werkzeug>=3.0.0 in ./.venv/lib/python3.12/site-packages (from Flask<4->mlflow) (3.0.2)\n",
      "Requirement already satisfied: itsdangerous>=2.1.2 in ./.venv/lib/python3.12/site-packages (from Flask<4->mlflow) (2.1.2)\n",
      "Requirement already satisfied: blinker>=1.6.2 in ./.venv/lib/python3.12/site-packages (from Flask<4->mlflow) (1.7.0)\n",
      "Requirement already satisfied: gitdb<5,>=4.0.1 in ./.venv/lib/python3.12/site-packages (from gitpython<4,>=3.1.9->mlflow) (4.0.11)\n",
      "Requirement already satisfied: graphql-core<3.3,>=3.1 in ./.venv/lib/python3.12/site-packages (from graphene<4->mlflow) (3.2.3)\n",
      "Requirement already satisfied: graphql-relay<3.3,>=3.1 in ./.venv/lib/python3.12/site-packages (from graphene<4->mlflow) (3.2.0)\n",
      "Requirement already satisfied: aniso8601<10,>=8 in ./.venv/lib/python3.12/site-packages (from graphene<4->mlflow) (9.0.1)\n",
      "Requirement already satisfied: zipp>=0.5 in ./.venv/lib/python3.12/site-packages (from importlib-metadata!=4.7.0,<8,>=3.7.0->mlflow) (3.18.1)\n",
      "Requirement already satisfied: MarkupSafe>=2.0 in ./.venv/lib/python3.12/site-packages (from Jinja2<4,>=2.11->mlflow) (2.1.5)\n",
      "Requirement already satisfied: contourpy>=1.0.1 in ./.venv/lib/python3.12/site-packages (from matplotlib<4->mlflow) (1.2.1)\n",
      "Requirement already satisfied: cycler>=0.10 in ./.venv/lib/python3.12/site-packages (from matplotlib<4->mlflow) (0.12.1)\n",
      "Requirement already satisfied: fonttools>=4.22.0 in ./.venv/lib/python3.12/site-packages (from matplotlib<4->mlflow) (4.51.0)\n",
      "Requirement already satisfied: kiwisolver>=1.3.1 in ./.venv/lib/python3.12/site-packages (from matplotlib<4->mlflow) (1.4.5)\n",
      "Requirement already satisfied: pillow>=8 in ./.venv/lib/python3.12/site-packages (from matplotlib<4->mlflow) (10.3.0)\n",
      "Requirement already satisfied: pyparsing>=2.3.1 in ./.venv/lib/python3.12/site-packages (from matplotlib<4->mlflow) (3.1.2)\n",
      "Requirement already satisfied: python-dateutil>=2.7 in ./.venv/lib/python3.12/site-packages (from matplotlib<4->mlflow) (2.9.0.post0)\n",
      "Requirement already satisfied: tzdata>=2022.7 in ./.venv/lib/python3.12/site-packages (from pandas<3->mlflow) (2024.1)\n",
      "Requirement already satisfied: six in ./.venv/lib/python3.12/site-packages (from querystring-parser<2->mlflow) (1.16.0)\n",
      "Requirement already satisfied: charset-normalizer<4,>=2 in ./.venv/lib/python3.12/site-packages (from requests<3,>=2.17.3->mlflow) (3.3.2)\n",
      "Requirement already satisfied: idna<4,>=2.5 in ./.venv/lib/python3.12/site-packages (from requests<3,>=2.17.3->mlflow) (3.7)\n",
      "Requirement already satisfied: certifi>=2017.4.17 in ./.venv/lib/python3.12/site-packages (from requests<3,>=2.17.3->mlflow) (2024.2.2)\n",
      "Requirement already satisfied: joblib>=1.2.0 in ./.venv/lib/python3.12/site-packages (from scikit-learn<2->mlflow) (1.4.0)\n",
      "Requirement already satisfied: threadpoolctl>=2.0.0 in ./.venv/lib/python3.12/site-packages (from scikit-learn<2->mlflow) (3.4.0)\n",
      "Requirement already satisfied: greenlet!=0.4.17 in ./.venv/lib/python3.12/site-packages (from sqlalchemy<3,>=1.4.0->mlflow) (3.0.3)\n",
      "Requirement already satisfied: smmap<6,>=3.0.1 in ./.venv/lib/python3.12/site-packages (from gitdb<5,>=4.0.1->gitpython<4,>=3.1.9->mlflow) (5.0.1)\n",
      "Downloading mlflow-2.11.3-py3-none-any.whl (19.7 MB)\n",
      "\u001b[2K   \u001b[38;5;237m━━━━━━━━━━━━━━━━━━━━━━━━━━━━━━━━━━━━━━━━\u001b[0m \u001b[32m0.0/19.7 MB\u001b[0m \u001b[31m?\u001b[0m eta \u001b[36m-:--:--\u001b[0m0m"
     ]
    }
   ],
   "source": [
    "!pip install --upgrade pip\n",
    "!pip uninstall -y mlflow\n",
    "!pip install mlflow"
   ]
  },
  {
   "cell_type": "code",
   "execution_count": null,
   "id": "df479648",
   "metadata": {},
   "outputs": [],
   "source": [
    "import mlflow"
   ]
  },
  {
   "cell_type": "code",
   "execution_count": null,
   "id": "02ab5e75",
   "metadata": {},
   "outputs": [],
   "source": []
  }
 ],
 "metadata": {
  "kernelspec": {
   "display_name": "mlflow-pip",
   "language": "python",
   "name": "mlflow-pip"
  },
  "language_info": {
   "codemirror_mode": {
    "name": "ipython",
    "version": 3
   },
   "file_extension": ".py",
   "mimetype": "text/x-python",
   "name": "python",
   "nbconvert_exporter": "python",
   "pygments_lexer": "ipython3",
   "version": "3.12.2"
  }
 },
 "nbformat": 4,
 "nbformat_minor": 5
}
